{
 "cells": [
  {
   "cell_type": "code",
   "execution_count": 1,
   "metadata": {
    "collapsed": true
   },
   "outputs": [],
   "source": [
    "import pandas as pd\n",
    "import numpy as np\n",
    "import itertools\n",
    "import inspect"
   ]
  },
  {
   "cell_type": "code",
   "execution_count": null,
   "metadata": {
    "collapsed": true
   },
   "outputs": [],
   "source": []
  },
  {
   "cell_type": "markdown",
   "metadata": {},
   "source": [
    "# Part I - The Code For The Solution"
   ]
  },
  {
   "cell_type": "markdown",
   "metadata": {},
   "source": [
    "## The Pieces Metrixes Building Blocks"
   ]
  },
  {
   "cell_type": "markdown",
   "metadata": {},
   "source": [
    "#### Requiered General Data for Piece"
   ]
  },
  {
   "cell_type": "code",
   "execution_count": 2,
   "metadata": {
    "collapsed": true
   },
   "outputs": [],
   "source": [
    "def piece_data(piece_mtx):\n",
    "    \n",
    "    max_row = 0\n",
    "    max_col = 0\n",
    "\n",
    "    for row in range(piece_mtx.shape[0]):\n",
    "        for col in range(piece_mtx.shape[1]):\n",
    "            if piece_mtx.iloc[row,col]==1:\n",
    "                if max_col < col:\n",
    "                    max_col = col\n",
    "                if max_row < row:\n",
    "                    max_row = row\n",
    "    num_positions = (piece_mtx.shape[0]-max_row)*(piece_mtx.shape[1]-max_col)\n",
    "    max_row +=1\n",
    "    max_col +=1\n",
    "    size = piece_mtx.sum().sum()\n",
    "    max_row_moves = piece_mtx.shape[0]-max_row\n",
    "    max_col_moves = piece_mtx.shape[1]-max_col\n",
    "    \n",
    "    return size, max_row, max_col, num_positions, max_row_moves, max_col_moves"
   ]
  },
  {
   "cell_type": "markdown",
   "metadata": {},
   "source": [
    "#### Function that moves piece i steps (rows) down and j steps (columns) right"
   ]
  },
  {
   "cell_type": "code",
   "execution_count": 3,
   "metadata": {
    "collapsed": true
   },
   "outputs": [],
   "source": [
    "def move_piece(orig_piece_mtx, num_rows_down, num_cols_right):\n",
    "    max_rows_down = orig_piece_mtx.shape[0]-piece_data(orig_piece_mtx)[1]\n",
    "    max_cols_right = orig_piece_mtx.shape[1]-piece_data(orig_piece_mtx)[2]\n",
    "    if num_rows_down > max_rows_down:\n",
    "        print ('num rows down to large, must be less then', max_rows_down+1)\n",
    "        return\n",
    "    if num_cols_right > max_cols_right:\n",
    "        print ('num cols right to large, must be less then', max_cols_right+1)\n",
    "        return\n",
    "\n",
    "    temp_dest_piece_mtx = pd.DataFrame(np.zeros([orig_piece_mtx.shape[0], orig_piece_mtx.shape[1]], dtype = int))\n",
    "    dest_piece_mtx = pd.DataFrame(np.zeros([orig_piece_mtx.shape[0], orig_piece_mtx.shape[1]], dtype = int))\n",
    "\n",
    "    for row in range(orig_piece_mtx.shape[0]-num_rows_down):\n",
    "        for col in range(orig_piece_mtx.shape[1]):\n",
    "            temp_dest_piece_mtx.iat[row+num_rows_down,col] = orig_piece_mtx.iloc[row,col]\n",
    "\n",
    "\n",
    "    for row in range(orig_piece_mtx.shape[0]):\n",
    "        for col in range(orig_piece_mtx.shape[1]-num_cols_right):\n",
    "            dest_piece_mtx.iat[row,col+num_cols_right] = temp_dest_piece_mtx.iloc[row,col]\n",
    "    \n",
    "    return dest_piece_mtx"
   ]
  },
  {
   "cell_type": "markdown",
   "metadata": {},
   "source": [
    "#### Function that stores in a dictionary all the possible positioins of a certain piece"
   ]
  },
  {
   "cell_type": "code",
   "execution_count": 4,
   "metadata": {
    "collapsed": true
   },
   "outputs": [],
   "source": [
    "def piece_positions_mtx(orig_piece_mtx):\n",
    "    piece_pos_mtx = {}\n",
    "    \n",
    "    for row in range((orig_piece_mtx.shape[0]-piece_data(orig_piece_mtx)[1])+1):\n",
    "        for col in range((orig_piece_mtx.shape[1]-piece_data(orig_piece_mtx)[2])+1):\n",
    "            piece_pos_mtx[str(row)+str(col)] = move_piece(orig_piece_mtx,row, col)\n",
    "    \n",
    "    return piece_pos_mtx"
   ]
  },
  {
   "cell_type": "markdown",
   "metadata": {},
   "source": [
    "#### Function that calculates all the possible combinations between pair of matrixes vectors"
   ]
  },
  {
   "cell_type": "code",
   "execution_count": 5,
   "metadata": {
    "collapsed": true
   },
   "outputs": [],
   "source": [
    "def comb_list(vec_a, vec_b, vec_a_name, vec_b_name):\n",
    "    list_a = []\n",
    "    list_b = []\n",
    "    for i in piece_positions_mtx(vec_a).keys():\n",
    "        list_a.append(vec_a_name+'_'+str(i))\n",
    "\n",
    "    for i in piece_positions_mtx(vec_b).keys():\n",
    "        list_b.append(vec_b_name+'_'+str(i))\n",
    "\n",
    "    comb_list_all = list(itertools.product(list_a, list_b))\n",
    "\n",
    "    return (comb_list_all)\n",
    "\n",
    "def comb_list_round(vec_a, vec_b, vec_b_name):\n",
    "    list_a = []\n",
    "    list_b = []\n",
    "    \n",
    "    list_a = vec_a.keys()\n",
    "    \n",
    "    for i in piece_positions_mtx(vec_b).keys():\n",
    "        list_b.append(vec_b_name+'_'+str(i))   \n",
    "        \n",
    "    comb_list_all = list(itertools.product(list_a, list_b))\n",
    "    \n",
    "    return ( comb_list_all )\n",
    "\n",
    "def retrieve_name(var):\n",
    "    callers_local_vars = inspect.currentframe().f_back.f_locals.items()\n",
    "    return [var_name for var_name, var_val in callers_local_vars if var_val is var][-1]\n",
    "\n",
    "def comb_list_temp(vec_a, vec_b):\n",
    "    list_a = []\n",
    "    list_b = []\n",
    "    vec_a_name = retrieve_name(vec_a)\n",
    "    vec_b_name = retrieve_name(vec_b)\n",
    "    \n",
    "    for i in piece_positions_mtx(vec_a).keys():\n",
    "        list_a.append(vec_a_name+'_'+str(i))\n",
    "\n",
    "    for i in piece_positions_mtx(vec_b).keys():\n",
    "        list_b.append(vec_b_name+'_'+str(i))\n",
    "\n",
    "    comb_list_all = list(itertools.product(list_a, list_b))\n",
    "\n",
    "    return (comb_list_all)"
   ]
  },
  {
   "cell_type": "markdown",
   "metadata": {},
   "source": [
    "#### Function that returns dictionary of the valid combinations (i.e. pices do not cover one another) from all the possible combinations between pair of matrixes vectors, the weight (i.e. the num of covered squares) and the combined valid matrixes."
   ]
  },
  {
   "cell_type": "code",
   "execution_count": 6,
   "metadata": {
    "collapsed": true
   },
   "outputs": [],
   "source": [
    "def valid_comb (vec_a, vec_b, vec_a_name, vec_b_name):\n",
    "    \n",
    "    comb_list_all = comb_list(vec_a, vec_b, vec_a_name, vec_b_name)\n",
    "    valid_comb_list = comb_list_all[:]\n",
    "    puzzle_dict = {}\n",
    "    \n",
    "    for comb in comb_list_all:\n",
    "        #print (comb)\n",
    "        val1_0 = comb[0].split('_')[0]\n",
    "        val1_1 = comb[0].split('_')[1]\n",
    "\n",
    "        val2_0 = comb[1].split('_')[0]\n",
    "        val2_1 = comb[1].split('_')[1]\n",
    "    \n",
    "        if (val1_0 == vec_a_name) and (val2_0 == vec_b_name):\n",
    "            \n",
    "            comb_puzzle = piece_positions_mtx(vec_a)[val1_1] + piece_positions_mtx(vec_b)[val2_1]\n",
    "            \n",
    "            weight = 0\n",
    "            for row in comb_puzzle.index:\n",
    "                for col in comb_puzzle.columns:            \n",
    "                    weight = weight + comb_puzzle.iloc[row,col]\n",
    "            \n",
    "            puzzle_dict[comb] = weight, comb_puzzle\n",
    "            #print ( puzzle_dict )\n",
    "        \n",
    "            for row in comb_puzzle.index:\n",
    "                for col in comb_puzzle.columns:\n",
    "                    if comb_puzzle.iloc[row,col] > 1:\n",
    "                        puzzle_dict.pop(comb)\n",
    "                        valid_comb_list.remove(comb)\n",
    "                        break\n",
    "                if comb_puzzle.iloc[row,col] > 1:\n",
    "                    break\n",
    "    \n",
    "    return puzzle_dict, valid_comb_list\n",
    "\n",
    "def valid_comb_round (vec_a, vec_b, vec_b_name):\n",
    "    comb_list_all = comb_list_round(vec_a, vec_b, vec_b_name)\n",
    "    valid_comb_list = comb_list_all[:]\n",
    "    puzzle_dict = {}\n",
    "    \n",
    "    for comb in comb_list_all:\n",
    "        #print (comb)\n",
    "        val2_0 = comb[1].split('_')[0]\n",
    "        val2_1 = comb[1].split('_')[1]\n",
    "    \n",
    "        comb_puzzle = vec_a[comb[0]][1] + piece_positions_mtx(vec_b)[val2_1]\n",
    "        comb_puzzle_before = vec_a[comb[0]][1]\n",
    "        weight_puzzle_before = vec_a[comb[0]][0]\n",
    "        #print (comb_puzzle)\n",
    "        \n",
    "        weight = 0\n",
    "        for row in comb_puzzle.index:\n",
    "            for col in comb_puzzle.columns:            \n",
    "                weight = weight + comb_puzzle.iloc[row,col]\n",
    "            \n",
    "        puzzle_dict[comb] = weight, comb_puzzle\n",
    "        #print ( puzzle_dict )\n",
    "        \n",
    "        for row in comb_puzzle.index:\n",
    "            for col in comb_puzzle.columns:\n",
    "                if comb_puzzle.iloc[row,col] > 1:\n",
    "                    puzzle_dict.pop(comb)\n",
    "                    puzzle_dict[comb[0]] = weight_puzzle_before, comb_puzzle_before\n",
    "                    valid_comb_list.remove(comb)\n",
    "                    if comb[0] not in valid_comb_list:\n",
    "                        valid_comb_list.append(comb[0])\n",
    "                    break\n",
    "            if comb_puzzle.iloc[row,col] > 1:\n",
    "                break\n",
    "    \n",
    "    return puzzle_dict, valid_comb_list"
   ]
  },
  {
   "cell_type": "code",
   "execution_count": null,
   "metadata": {
    "collapsed": true
   },
   "outputs": [],
   "source": []
  },
  {
   "cell_type": "markdown",
   "metadata": {},
   "source": [
    "# Part II - Running the Algo."
   ]
  },
  {
   "cell_type": "markdown",
   "metadata": {},
   "source": [
    "### 1) Load and Prepare The Data"
   ]
  },
  {
   "cell_type": "code",
   "execution_count": 7,
   "metadata": {
    "collapsed": true
   },
   "outputs": [],
   "source": [
    "file_name_string = 'C:/Users/Hanan/Desktop/Data Science bootcamp/Puzzle/PuzzlePiecesLight6.xlsx'"
   ]
  },
  {
   "cell_type": "code",
   "execution_count": 8,
   "metadata": {
    "collapsed": true
   },
   "outputs": [],
   "source": [
    "df_sheet_map = pd.read_excel(file_name_string, sheet_name=None, index_col=None, na_values=['NA'], header=None)"
   ]
  },
  {
   "cell_type": "code",
   "execution_count": 9,
   "metadata": {
    "collapsed": true
   },
   "outputs": [],
   "source": [
    "piece01 = df_sheet_map['Sheet1']\n",
    "piece02 = df_sheet_map['Sheet2']\n",
    "piece03 = df_sheet_map['Sheet3']\n",
    "piece04 = df_sheet_map['Sheet4']\n",
    "piece05 = df_sheet_map['Sheet5']\n",
    "piece06 = df_sheet_map['Sheet6']\n",
    "piece07 = df_sheet_map['Sheet7']\n",
    "piece08 = df_sheet_map['Sheet8']\n",
    "piece09 = df_sheet_map['Sheet9']\n",
    "piece10 = df_sheet_map['Sheet10']\n",
    "piece11 = df_sheet_map['Sheet11']\n",
    "piece12 = df_sheet_map['Sheet12']\n",
    "piece13 = df_sheet_map['Sheet13']\n",
    "piece14 = df_sheet_map['Sheet14']\n",
    "piece15 = df_sheet_map['Sheet15']\n",
    "piece16 = df_sheet_map['Sheet16']"
   ]
  },
  {
   "cell_type": "code",
   "execution_count": 10,
   "metadata": {
    "collapsed": true
   },
   "outputs": [],
   "source": [
    "pieces_lst = ['piece01', 'piece02', 'piece03', 'piece04', 'piece05', 'piece06', 'piece07', 'piece08', 'piece09', \\\n",
    "              'piece10', 'piece11', 'piece12', 'piece13', 'piece14', 'piece15', 'piece16']\n",
    "pieces = [piece01, piece02, piece03, piece04, piece05, piece06, piece07, piece08, piece09, piece10, \\\n",
    "         piece11, piece12, piece13, piece14, piece15, piece16]"
   ]
  },
  {
   "cell_type": "code",
   "execution_count": 11,
   "metadata": {},
   "outputs": [
    {
     "name": "stdout",
     "output_type": "stream",
     "text": [
      "100\n"
     ]
    }
   ],
   "source": [
    "sum = 0\n",
    "for piece in pieces:\n",
    "    sum = sum + piece.sum().sum()\n",
    "print ( sum )"
   ]
  },
  {
   "cell_type": "markdown",
   "metadata": {},
   "source": [
    "#### create a dictionary of the pieces sorted by their number of posibble possitions on the board. In order to reduce complexity it's recomended to start with the less positions ones."
   ]
  },
  {
   "cell_type": "code",
   "execution_count": 12,
   "metadata": {},
   "outputs": [
    {
     "data": {
      "text/plain": [
       "[('piece09', (6, 8)),\n",
       " ('piece07', (8, 9)),\n",
       " ('piece11', (8, 8)),\n",
       " ('piece02', (9, 9)),\n",
       " ('piece16', (9, 7)),\n",
       " ('piece05', (10, 7)),\n",
       " ('piece01', (12, 7)),\n",
       " ('piece03', (12, 7)),\n",
       " ('piece14', (12, 8)),\n",
       " ('piece10', (15, 6)),\n",
       " ('piece08', (16, 6)),\n",
       " ('piece06', (16, 5)),\n",
       " ('piece04', (20, 4)),\n",
       " ('piece15', (24, 3)),\n",
       " ('piece12', (25, 3)),\n",
       " ('piece13', (25, 3))]"
      ]
     },
     "execution_count": 12,
     "metadata": {},
     "output_type": "execute_result"
    }
   ],
   "source": [
    "size_dict = {}\n",
    "for piece in pieces_lst:\n",
    "    size_dict[piece] = piece_data(vars()[piece])[3], piece_data(vars()[piece])[0]\n",
    "\n",
    "sorted_piece_size=sorted(size_dict.items(),key=lambda x:x[1][0],reverse=False)\n",
    "sorted_piece_size"
   ]
  },
  {
   "cell_type": "markdown",
   "metadata": {},
   "source": [
    "### 2) Run the Algo. Rounds Rercusivly"
   ]
  },
  {
   "cell_type": "markdown",
   "metadata": {},
   "source": [
    "#### Round-1: Btween piece09 & piece07 (The pieces with the less possible board possitions)"
   ]
  },
  {
   "cell_type": "code",
   "execution_count": 18,
   "metadata": {},
   "outputs": [
    {
     "data": {
      "text/plain": [
       "[(('piece09_10', 'piece07_00'), (17,    0  1  2  3  4  5\n",
       "   0  0  1  1  1  0  0\n",
       "   1  1  1  1  1  1  0\n",
       "   2  1  1  1  0  0  0\n",
       "   3  0  0  1  0  0  0\n",
       "   4  0  0  1  1  0  0\n",
       "   5  1  1  1  0  0  0))]"
      ]
     },
     "execution_count": 18,
     "metadata": {},
     "output_type": "execute_result"
    }
   ],
   "source": [
    "round1 = valid_comb(piece09, piece07, 'piece09', 'piece07')[0]\n",
    "sorted(round1.items(),key=lambda x:x[1][0],reverse=True)[:1]"
   ]
  },
  {
   "cell_type": "markdown",
   "metadata": {},
   "source": [
    "#### Round-2: Btween Round-1 & piece11 (pieces: 09, 07, 11)"
   ]
  },
  {
   "cell_type": "code",
   "execution_count": 19,
   "metadata": {},
   "outputs": [
    {
     "data": {
      "text/plain": [
       "[(('piece09_10', 'piece07_00'), (17,    0  1  2  3  4  5\n",
       "   0  0  1  1  1  0  0\n",
       "   1  1  1  1  1  1  0\n",
       "   2  1  1  1  0  0  0\n",
       "   3  0  0  1  0  0  0\n",
       "   4  0  0  1  1  0  0\n",
       "   5  1  1  1  0  0  0))]"
      ]
     },
     "execution_count": 19,
     "metadata": {},
     "output_type": "execute_result"
    }
   ],
   "source": [
    "round2 = valid_comb_round(round1, piece11, 'piece11')[0]\n",
    "sorted(round2.items(),key=lambda x:x[1][0],reverse=True)[:1]"
   ]
  },
  {
   "cell_type": "markdown",
   "metadata": {},
   "source": [
    "#### Round-3: Btween Round-2 & piece02 (pieces: 09, 07, 11, 02)"
   ]
  },
  {
   "cell_type": "code",
   "execution_count": 20,
   "metadata": {},
   "outputs": [
    {
     "data": {
      "text/plain": [
       "[(('piece09_10', 'piece07_00'), (17,    0  1  2  3  4  5\n",
       "   0  0  1  1  1  0  0\n",
       "   1  1  1  1  1  1  0\n",
       "   2  1  1  1  0  0  0\n",
       "   3  0  0  1  0  0  0\n",
       "   4  0  0  1  1  0  0\n",
       "   5  1  1  1  0  0  0))]"
      ]
     },
     "execution_count": 20,
     "metadata": {},
     "output_type": "execute_result"
    }
   ],
   "source": [
    "round3 = valid_comb_round(round2, piece02, 'piece02')[0]\n",
    "sorted(round3.items(),key=lambda x:x[1][0],reverse=True)[:1]"
   ]
  },
  {
   "cell_type": "markdown",
   "metadata": {},
   "source": [
    "#### Round-4: Btween Round-3 & piece16 (pieces: 09, 07, 11, 02, 16)"
   ]
  },
  {
   "cell_type": "code",
   "execution_count": 21,
   "metadata": {},
   "outputs": [
    {
     "data": {
      "text/plain": [
       "[(('piece09_10', 'piece07_00'), (17,    0  1  2  3  4  5\n",
       "   0  0  1  1  1  0  0\n",
       "   1  1  1  1  1  1  0\n",
       "   2  1  1  1  0  0  0\n",
       "   3  0  0  1  0  0  0\n",
       "   4  0  0  1  1  0  0\n",
       "   5  1  1  1  0  0  0))]"
      ]
     },
     "execution_count": 21,
     "metadata": {},
     "output_type": "execute_result"
    }
   ],
   "source": [
    "round4 = valid_comb_round(round3, piece16, 'piece16')[0]\n",
    "sorted(round4.items(),key=lambda x:x[1][0],reverse=True)[:1]"
   ]
  },
  {
   "cell_type": "markdown",
   "metadata": {},
   "source": [
    "#### Round-5: Btween Round-4 & piece05 (pieces: 09, 07, 11, 02, 16, 05)"
   ]
  },
  {
   "cell_type": "code",
   "execution_count": 22,
   "metadata": {},
   "outputs": [
    {
     "data": {
      "text/plain": [
       "[((('piece09_10', 'piece07_00'), 'piece05_04'), (24,    0  1  2  3  4  5\n",
       "   0  0  1  1  1  1  1\n",
       "   1  1  1  1  1  1  1\n",
       "   2  1  1  1  0  0  1\n",
       "   3  0  0  1  0  0  1\n",
       "   4  0  0  1  1  1  1\n",
       "   5  1  1  1  0  0  0))]"
      ]
     },
     "execution_count": 22,
     "metadata": {},
     "output_type": "execute_result"
    }
   ],
   "source": [
    "round5 = valid_comb_round(round4, piece05, 'piece05')[0]\n",
    "sorted(round5.items(),key=lambda x:x[1][0],reverse=True)[:1]"
   ]
  },
  {
   "cell_type": "markdown",
   "metadata": {},
   "source": [
    "#### Round-6: Btween Round-5 & piece01 (pieces: 09, 07, 11, 02, 16, 05, 01)"
   ]
  },
  {
   "cell_type": "code",
   "execution_count": 23,
   "metadata": {},
   "outputs": [
    {
     "data": {
      "text/plain": [
       "[((('piece09_10', 'piece07_00'), 'piece05_04'), (24,    0  1  2  3  4  5\n",
       "   0  0  1  1  1  1  1\n",
       "   1  1  1  1  1  1  1\n",
       "   2  1  1  1  0  0  1\n",
       "   3  0  0  1  0  0  1\n",
       "   4  0  0  1  1  1  1\n",
       "   5  1  1  1  0  0  0))]"
      ]
     },
     "execution_count": 23,
     "metadata": {},
     "output_type": "execute_result"
    }
   ],
   "source": [
    "round6 = valid_comb_round(round5, piece01, 'piece01')[0]\n",
    "sorted(round6.items(),key=lambda x:x[1][0],reverse=True)[:1]"
   ]
  },
  {
   "cell_type": "markdown",
   "metadata": {},
   "source": [
    "#### Round-7: Btween Round-6 & piece03 (pieces: 09, 07, 11, 02, 16, 05, 01, 03)"
   ]
  },
  {
   "cell_type": "code",
   "execution_count": 24,
   "metadata": {},
   "outputs": [
    {
     "data": {
      "text/plain": [
       "[((('piece09_10', 'piece07_00'), 'piece05_04'), (24,    0  1  2  3  4  5\n",
       "   0  0  1  1  1  1  1\n",
       "   1  1  1  1  1  1  1\n",
       "   2  1  1  1  0  0  1\n",
       "   3  0  0  1  0  0  1\n",
       "   4  0  0  1  1  1  1\n",
       "   5  1  1  1  0  0  0))]"
      ]
     },
     "execution_count": 24,
     "metadata": {},
     "output_type": "execute_result"
    }
   ],
   "source": [
    "round7 = valid_comb_round(round6, piece03, 'piece03')[0]\n",
    "sorted(round7.items(),key=lambda x:x[1][0],reverse=True)[:1]"
   ]
  },
  {
   "cell_type": "markdown",
   "metadata": {},
   "source": [
    "#### Round-8: Btween Round-7 & piece14 (pieces: 09, 07, 11, 02, 16, 05, 01, 03, 14)"
   ]
  },
  {
   "cell_type": "code",
   "execution_count": 25,
   "metadata": {},
   "outputs": [
    {
     "data": {
      "text/plain": [
       "[((('piece09_10', 'piece07_00'), 'piece14_23'), (25,    0  1  2  3  4  5\n",
       "   0  0  1  1  1  0  0\n",
       "   1  1  1  1  1  1  0\n",
       "   2  1  1  1  1  1  0\n",
       "   3  0  0  1  0  1  1\n",
       "   4  0  0  1  1  0  1\n",
       "   5  1  1  1  1  1  1))]"
      ]
     },
     "execution_count": 25,
     "metadata": {},
     "output_type": "execute_result"
    }
   ],
   "source": [
    "round8 = valid_comb_round(round7, piece14, 'piece14')[0]\n",
    "sorted(round8.items(),key=lambda x:x[1][0],reverse=True)[:1]"
   ]
  },
  {
   "cell_type": "markdown",
   "metadata": {},
   "source": [
    "#### Round-9: Btween Round-8 & piece10 (pieces: 09, 07, 11, 02, 16, 05, 01, 03, 14, 10)"
   ]
  },
  {
   "cell_type": "code",
   "execution_count": 26,
   "metadata": {},
   "outputs": [
    {
     "data": {
      "text/plain": [
       "[((('piece09_10', 'piece07_00'), 'piece14_23'), (25,    0  1  2  3  4  5\n",
       "   0  0  1  1  1  0  0\n",
       "   1  1  1  1  1  1  0\n",
       "   2  1  1  1  1  1  0\n",
       "   3  0  0  1  0  1  1\n",
       "   4  0  0  1  1  0  1\n",
       "   5  1  1  1  1  1  1))]"
      ]
     },
     "execution_count": 26,
     "metadata": {},
     "output_type": "execute_result"
    }
   ],
   "source": [
    "round9 = valid_comb_round(round8, piece10, 'piece10')[0]\n",
    "sorted(round9.items(),key=lambda x:x[1][0],reverse=True)[:1]"
   ]
  },
  {
   "cell_type": "markdown",
   "metadata": {},
   "source": [
    "#### Round-10: Btween Round-9 & piece08 (pieces: 09, 07, 11, 02, 16, 05, 01, 03, 14, 10, 08)"
   ]
  },
  {
   "cell_type": "code",
   "execution_count": 27,
   "metadata": {},
   "outputs": [
    {
     "data": {
      "text/plain": [
       "[((('piece09_10', 'piece07_00'), 'piece14_23'), (25,    0  1  2  3  4  5\n",
       "   0  0  1  1  1  0  0\n",
       "   1  1  1  1  1  1  0\n",
       "   2  1  1  1  1  1  0\n",
       "   3  0  0  1  0  1  1\n",
       "   4  0  0  1  1  0  1\n",
       "   5  1  1  1  1  1  1))]"
      ]
     },
     "execution_count": 27,
     "metadata": {},
     "output_type": "execute_result"
    }
   ],
   "source": [
    "round10 = valid_comb_round(round9, piece08, 'piece08')[0]\n",
    "sorted(round10.items(),key=lambda x:x[1][0],reverse=True)[:1]"
   ]
  },
  {
   "cell_type": "markdown",
   "metadata": {},
   "source": [
    "#### Round-11: Btween Round-10 & piece06 (pieces: 09, 07, 11, 02, 16, 05, 01, 03, 14, 10, 08, 06)"
   ]
  },
  {
   "cell_type": "code",
   "execution_count": 28,
   "metadata": {},
   "outputs": [
    {
     "data": {
      "text/plain": [
       "[(((('piece09_11', 'piece07_01'), 'piece10_24'), 'piece06_30'),\n",
       "  (28,    0  1  2  3  4  5\n",
       "   0  0  0  1  1  1  0\n",
       "   1  0  1  1  1  1  1\n",
       "   2  0  1  1  1  1  0\n",
       "   3  0  0  1  1  1  1\n",
       "   4  1  1  1  1  1  1\n",
       "   5  1  1  1  1  1  1))]"
      ]
     },
     "execution_count": 28,
     "metadata": {},
     "output_type": "execute_result"
    }
   ],
   "source": [
    "round11 = valid_comb_round(round10, piece06, 'piece06')[0]\n",
    "sorted(round11.items(),key=lambda x:x[1][0],reverse=True)[:1]"
   ]
  },
  {
   "cell_type": "markdown",
   "metadata": {},
   "source": [
    "#### Round-12: Btween Round-11 & piece04 (pieces: 09, 07, 11, 02, 16, 05, 01, 03, 14, 10, 08, 06, 04)"
   ]
  },
  {
   "cell_type": "code",
   "execution_count": 29,
   "metadata": {},
   "outputs": [
    {
     "data": {
      "text/plain": [
       "[(((('piece09_10', 'piece07_00'), 'piece14_23'), 'piece04_04'),\n",
       "  (29,    0  1  2  3  4  5\n",
       "   0  0  1  1  1  1  1\n",
       "   1  1  1  1  1  1  1\n",
       "   2  1  1  1  1  1  1\n",
       "   3  0  0  1  0  1  1\n",
       "   4  0  0  1  1  0  1\n",
       "   5  1  1  1  1  1  1))]"
      ]
     },
     "execution_count": 29,
     "metadata": {},
     "output_type": "execute_result"
    }
   ],
   "source": [
    "round12 = valid_comb_round(round11, piece04, 'piece04')[0]\n",
    "sorted(round12.items(),key=lambda x:x[1][0],reverse=True)[:1]"
   ]
  },
  {
   "cell_type": "markdown",
   "metadata": {},
   "source": [
    "#### Round-13: Btween Round-12 & piece15 (pieces: 09, 07, 11, 02, 16, 05, 01, 03, 14, 10, 08, 06, 04, 15)"
   ]
  },
  {
   "cell_type": "code",
   "execution_count": 30,
   "metadata": {},
   "outputs": [
    {
     "data": {
      "text/plain": [
       "[(((('piece09_10', 'piece07_00'), 'piece14_23'), 'piece04_04'),\n",
       "  (29,    0  1  2  3  4  5\n",
       "   0  0  1  1  1  1  1\n",
       "   1  1  1  1  1  1  1\n",
       "   2  1  1  1  1  1  1\n",
       "   3  0  0  1  0  1  1\n",
       "   4  0  0  1  1  0  1\n",
       "   5  1  1  1  1  1  1))]"
      ]
     },
     "execution_count": 30,
     "metadata": {},
     "output_type": "execute_result"
    }
   ],
   "source": [
    "round13 = valid_comb_round(round12, piece15, 'piece15')[0]\n",
    "sorted(round13.items(),key=lambda x:x[1][0],reverse=True)[:1]"
   ]
  },
  {
   "cell_type": "markdown",
   "metadata": {},
   "source": [
    "#### Round-14: Btween Round-13 & piece12 (pieces: 09, 07, 11, 02, 16, 05, 01, 03, 14, 10, 08, 06, 04, 15, 12)"
   ]
  },
  {
   "cell_type": "code",
   "execution_count": 31,
   "metadata": {},
   "outputs": [
    {
     "data": {
      "text/plain": [
       "[((((('piece09_10', 'piece07_00'), 'piece14_23'), 'piece04_04'), 'piece12_30'),\n",
       "  (32,    0  1  2  3  4  5\n",
       "   0  0  1  1  1  1  1\n",
       "   1  1  1  1  1  1  1\n",
       "   2  1  1  1  1  1  1\n",
       "   3  1  0  1  0  1  1\n",
       "   4  1  1  1  1  0  1\n",
       "   5  1  1  1  1  1  1))]"
      ]
     },
     "execution_count": 31,
     "metadata": {},
     "output_type": "execute_result"
    }
   ],
   "source": [
    "round14 = valid_comb_round(round13, piece12, 'piece12')[0]\n",
    "sorted(round14.items(),key=lambda x:x[1][0],reverse=True)[:1]"
   ]
  },
  {
   "cell_type": "markdown",
   "metadata": {},
   "source": [
    "#### Round-15: Btween Round-14 & piece13 (pieces: 09, 07, 11, 02, 16, 05, 01, 03, 14, 10, 08, 06, 04, 15, 12, 13)"
   ]
  },
  {
   "cell_type": "code",
   "execution_count": 32,
   "metadata": {},
   "outputs": [
    {
     "data": {
      "text/plain": [
       "[(((((('piece09_10', 'piece07_00'), 'piece10_23'), 'piece04_24'),\n",
       "    'piece12_30'),\n",
       "   'piece13_04'),\n",
       "  (33,    0  1  2  3  4  5\n",
       "   0  0  1  1  1  1  1\n",
       "   1  1  1  1  1  1  1\n",
       "   2  1  1  1  1  1  1\n",
       "   3  1  0  1  1  1  1\n",
       "   4  1  1  1  1  1  1\n",
       "   5  1  1  1  1  1  0)),\n",
       " (((((('piece09_10', 'piece07_00'), 'piece05_04'), 'piece15_53'),\n",
       "    'piece12_30'),\n",
       "   'piece13_23'),\n",
       "  (33,    0  1  2  3  4  5\n",
       "   0  0  1  1  1  1  1\n",
       "   1  1  1  1  1  1  1\n",
       "   2  1  1  1  1  1  1\n",
       "   3  1  0  1  0  1  1\n",
       "   4  1  1  1  1  1  1\n",
       "   5  1  1  1  1  1  1)),\n",
       " (((((('piece09_10', 'piece07_00'), 'piece05_04'), 'piece15_53'),\n",
       "    'piece12_23'),\n",
       "   'piece13_30'),\n",
       "  (33,    0  1  2  3  4  5\n",
       "   0  0  1  1  1  1  1\n",
       "   1  1  1  1  1  1  1\n",
       "   2  1  1  1  1  0  1\n",
       "   3  1  1  1  1  1  1\n",
       "   4  0  1  1  1  1  1\n",
       "   5  1  1  1  1  1  1)),\n",
       " ((((('piece09_10', 'piece07_00'), 'piece14_23'), 'piece04_04'), 'piece12_30'),\n",
       "  (32,    0  1  2  3  4  5\n",
       "   0  0  1  1  1  1  1\n",
       "   1  1  1  1  1  1  1\n",
       "   2  1  1  1  1  1  1\n",
       "   3  1  0  1  0  1  1\n",
       "   4  1  1  1  1  0  1\n",
       "   5  1  1  1  1  1  1)),\n",
       " ((((('piece09_10', 'piece07_00'), 'piece14_23'), 'piece04_04'), 'piece13_30'),\n",
       "  (32,    0  1  2  3  4  5\n",
       "   0  0  1  1  1  1  1\n",
       "   1  1  1  1  1  1  1\n",
       "   2  1  1  1  1  1  1\n",
       "   3  1  1  1  0  1  1\n",
       "   4  0  1  1  1  0  1\n",
       "   5  1  1  1  1  1  1))]"
      ]
     },
     "execution_count": 32,
     "metadata": {},
     "output_type": "execute_result"
    }
   ],
   "source": [
    "round15 = valid_comb_round(round14, piece13, 'piece13')[0]\n",
    "sorted(round15.items(),key=lambda x:x[1][0],reverse=True)[:5]"
   ]
  },
  {
   "cell_type": "markdown",
   "metadata": {},
   "source": [
    "# Part III - The Solution combinations"
   ]
  },
  {
   "cell_type": "markdown",
   "metadata": {
    "collapsed": true
   },
   "source": [
    "Each sequence represents a possible optimal solution.\n",
    "The solution's layot on the board can be understood from the pieces name syntax :\n",
    "PieceNum_Num rows down from orig. pos., Num columns right from orig. pos.\n",
    "\n",
    "'piece09_10' --> piece number 9. one row down from orig, aligned to the left.\n",
    "'piece07_00' --> piece number 7, at origin position."
   ]
  },
  {
   "cell_type": "code",
   "execution_count": 35,
   "metadata": {},
   "outputs": [
    {
     "data": {
      "text/plain": [
       "[[((((('piece09_10', 'piece07_00'), 'piece10_23'), 'piece04_24'),\n",
       "    'piece12_30'),\n",
       "   'piece13_04'),\n",
       "  33],\n",
       " [((((('piece09_10', 'piece07_00'), 'piece05_04'), 'piece15_53'),\n",
       "    'piece12_30'),\n",
       "   'piece13_23'),\n",
       "  33],\n",
       " [((((('piece09_10', 'piece07_00'), 'piece05_04'), 'piece15_53'),\n",
       "    'piece12_23'),\n",
       "   'piece13_30'),\n",
       "  33]]"
      ]
     },
     "execution_count": 35,
     "metadata": {},
     "output_type": "execute_result"
    }
   ],
   "source": [
    "temp = sorted(round15.items(),key=lambda x:x[1][0],reverse=True)[:3]\n",
    "solutions = [ [comb[0], comb[1][0]] for comb in temp ]\n",
    "solutions"
   ]
  },
  {
   "cell_type": "code",
   "execution_count": null,
   "metadata": {
    "collapsed": true
   },
   "outputs": [],
   "source": []
  },
  {
   "cell_type": "code",
   "execution_count": null,
   "metadata": {
    "collapsed": true
   },
   "outputs": [],
   "source": []
  },
  {
   "cell_type": "code",
   "execution_count": null,
   "metadata": {
    "collapsed": true
   },
   "outputs": [],
   "source": []
  },
  {
   "cell_type": "code",
   "execution_count": null,
   "metadata": {
    "collapsed": true
   },
   "outputs": [],
   "source": []
  },
  {
   "cell_type": "code",
   "execution_count": null,
   "metadata": {
    "collapsed": true
   },
   "outputs": [],
   "source": []
  },
  {
   "cell_type": "code",
   "execution_count": null,
   "metadata": {
    "collapsed": true
   },
   "outputs": [],
   "source": []
  },
  {
   "cell_type": "code",
   "execution_count": null,
   "metadata": {
    "collapsed": true
   },
   "outputs": [],
   "source": []
  },
  {
   "cell_type": "code",
   "execution_count": null,
   "metadata": {
    "collapsed": true
   },
   "outputs": [],
   "source": []
  },
  {
   "cell_type": "code",
   "execution_count": null,
   "metadata": {
    "collapsed": true
   },
   "outputs": [],
   "source": []
  }
 ],
 "metadata": {
  "kernelspec": {
   "display_name": "Python 3",
   "language": "python",
   "name": "python3"
  },
  "language_info": {
   "codemirror_mode": {
    "name": "ipython",
    "version": 3
   },
   "file_extension": ".py",
   "mimetype": "text/x-python",
   "name": "python",
   "nbconvert_exporter": "python",
   "pygments_lexer": "ipython3",
   "version": "3.7.1"
  }
 },
 "nbformat": 4,
 "nbformat_minor": 2
}
